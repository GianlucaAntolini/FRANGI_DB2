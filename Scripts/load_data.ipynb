{
 "cells": [
  {
   "cell_type": "markdown",
   "id": "ec4ae9d0",
   "metadata": {},
   "source": [
    "<h1>Database 2 Project - Load data in ttl file</h1>\n",
    "<h3>\n",
    "    Group FRANGI: <br>\n",
    "    Francesco Frigato, Andrea Felline, Gianluca Antolini <br>\n",
    "    <br>\n",
    "    Topic: <br>\n",
    "    Spotify songs and their Youtube videos\n",
    "</h3>\n"
   ]
  },
  {
   "cell_type": "markdown",
   "id": "508fd47f",
   "metadata": {},
   "source": [
    "<h4>Install and import required Libraries</h4>"
   ]
  },
  {
   "cell_type": "code",
   "execution_count": 1,
   "id": "3c71bf4f",
   "metadata": {},
   "outputs": [
    {
     "name": "stdout",
     "output_type": "stream",
     "text": [
      "Requirement already satisfied: rdflib in c:\\users\\andfe\\anaconda3\\lib\\site-packages (7.0.0)\n",
      "Requirement already satisfied: isodate<0.7.0,>=0.6.0 in c:\\users\\andfe\\anaconda3\\lib\\site-packages (from rdflib) (0.6.1)\n",
      "Requirement already satisfied: pyparsing<4,>=2.1.0 in c:\\users\\andfe\\anaconda3\\lib\\site-packages (from rdflib) (3.0.9)\n",
      "Requirement already satisfied: six in c:\\users\\andfe\\anaconda3\\lib\\site-packages (from isodate<0.7.0,>=0.6.0->rdflib) (1.16.0)\n"
     ]
    }
   ],
   "source": [
    "!pip install rdflib"
   ]
  },
  {
   "cell_type": "code",
   "execution_count": 2,
   "id": "43519b5c",
   "metadata": {},
   "outputs": [],
   "source": [
    "import pandas as pd\n",
    "import os\n",
    "from pathlib import Path\n",
    "from rdflib import Graph, Literal, RDF, URIRef, Namespace\n",
    "from rdflib.namespace import FOAF, XSD, SKOS"
   ]
  },
  {
   "cell_type": "markdown",
   "id": "a55ee393",
   "metadata": {},
   "source": [
    "<h4>Set global variables</h4>\n",
    "<ol>\n",
    "    <li>Path to the csv dataset</li>\n",
    "    <li>Path for the final file</li>\n",
    "    <li>Ontology object</li>\n",
    "    <li>Graph object</li>\n",
    "    <li>Data readed from the csv file</li>\n",
    "    <li>Dictionaries to help properties naming</li>\n",
    "</ol>"
   ]
  },
  {
   "cell_type": "code",
   "execution_count": 3,
   "id": "76f93171",
   "metadata": {},
   "outputs": [
    {
     "name": "stdout",
     "output_type": "stream",
     "text": [
      "Number of rows of the dataset: 20718\n"
     ]
    }
   ],
   "source": [
    "# Paths\n",
    "path = str(Path(os.path.abspath(os.getcwd())).parent.absolute())\n",
    "datasetCSV = path + \"/Datasets/Computed/complete_dataset.csv\"\n",
    "savePath = path + \"/Datasets/rdf/\"\n",
    "\n",
    "# Construct the SpotifyYoutubeStatistics ontology namespaces not known by RDFlib\n",
    "SY = Namespace(\"http://www.dei.unipd.it/Database2/FRANGI/spotifyYoutubeStatistics/\")\n",
    "\n",
    "# Create the graph\n",
    "g = Graph()\n",
    "\n",
    "# Load artists\n",
    "data = pd.read_csv(datasetCSV, sep=\",\")\n",
    "\n",
    "# Useful dictionaries\n",
    "floatProps = {\"Instrumentalness\": \"instrumentalness\", \"Danceability\": \"danceability\", \"Energy\": \"energy\",\n",
    "              \"Loudness\": \"loudness\", \"Speechiness\": \"speechiness\", \"Acousticness\": \"acousticness\",\n",
    "              \"Liveness\": \"liveness\", \"Tempo\": \"tempo\", \"Valence\": \"valence\"}\n",
    "intProps = {\"Key\": \"key\", \"Duration_ms\": \"duration\", \"uStream\": \"stream\"}\n",
    "\n",
    "print(\"Number of rows of the dataset:\", len(data))"
   ]
  },
  {
   "cell_type": "markdown",
   "id": "d3ed6910",
   "metadata": {},
   "source": [
    "<h4>Iterate over each row of the dataset and add everything to the graph</h4>\n",
    "\n",
    "At each iteration check if something already exists (for example an Artist may show up for multiple songs, and thus in multiple lines) or if it's null (for example some songs are not in a playlist, so that field will be null sometimes)."
   ]
  },
  {
   "cell_type": "code",
   "execution_count": 4,
   "id": "42f9afb5",
   "metadata": {},
   "outputs": [
    {
     "name": "stdout",
     "output_type": "stream",
     "text": [
      "Progress: 0%\n",
      "Progress: 10%\n",
      "Progress: 20%\n",
      "Progress: 30%\n",
      "Progress: 40%\n",
      "Progress: 50%\n",
      "Progress: 60%\n",
      "Progress: 70%\n",
      "Progress: 80%\n",
      "Progress: 90%\n",
      "Progress: 100%\n"
     ]
    }
   ],
   "source": [
    "for index, row in data.iterrows():\n",
    "    \n",
    "    # Create the node to add to the Graph\n",
    "    # the node has the namespace + the artist id as URI\n",
    "    Artist = None if pd.isnull(row[\"Url_spotify\"]) else URIRef(SY[row[\"Url_spotify\"]])\n",
    "    Song = None if pd.isnull(row[\"Uri\"]) else URIRef(SY[row[\"Uri\"]])\n",
    "    Album = None if pd.isnull(row[\"albumId\"]) else URIRef(SY[row[\"albumId\"]])\n",
    "    Video = None if pd.isnull(row[\"Url_youtube\"]) else URIRef(SY[str(row[\"Url_youtube\"]).split(\"=\")[-1]])\n",
    "    Channel = None if pd.isnull(row[\"channelId\"]) else URIRef(SY[row[\"channelId\"]])\n",
    "    Playlist = None if pd.isnull(row[\"playlist_id\"]) else URIRef(row[\"playlist_id\"])\n",
    "    Genre = None if pd.isnull(row[\"playlist_genre\"]) else URIRef(SY[row[\"playlist_genre\"]])\n",
    "\n",
    "    # remove spaces from subgenres\n",
    "    formattedSubgenre = float(\"nan\")\n",
    "    if str(row[\"playlist_subgenre\"]) != \"nan\":\n",
    "        formattedSubgenre = row[\"playlist_subgenre\"].replace(\" \", \"_\")\n",
    "    Subgenre = None if pd.isnull(row[\"playlist_subgenre\"]) else URIRef(SY[formattedSubgenre])\n",
    "\n",
    "    # add Artist\n",
    "    if (Artist, RDF.type, SY.Artist) not in g and not pd.isnull(row[\"Url_spotify\"]):\n",
    "        g.add((Artist, RDF.type, SY.Artist))\n",
    "        g.add((Artist, SY[\"personName\"], Literal(row[\"Artist\"], datatype=XSD.string)))\n",
    "\n",
    "    # add Song\n",
    "    if (Song, RDF.type, SY.SpotifySong) not in g and not pd.isnull(row[\"Uri\"]):\n",
    "        g.add((Song, RDF.type, SY.SpotifySong))\n",
    "        g.add((Song, SY[\"trackName\"], Literal(row[\"Track\"], datatype=XSD.string)))\n",
    "\n",
    "        for n in floatProps:\n",
    "            if not pd.isnull(row[n]):\n",
    "                g.add((Song, SY[floatProps[n]], Literal(float(row[n]), datatype=XSD.float)))\n",
    "\n",
    "        for n in intProps:\n",
    "            if not pd.isnull(row[n]):\n",
    "                g.add((Song, SY[intProps[n]], Literal(int(row[n]), datatype=XSD.integer)))\n",
    "\n",
    "    # add Album\n",
    "    if (Album, RDF.type, SY.Album) not in g and not pd.isnull(row[\"albumId\"]):\n",
    "        g.add((Album, RDF.type, SY.Album))\n",
    "        g.add((Album, SY[\"albumName\"], Literal(row[\"Album\"], datatype=XSD.string)))\n",
    "        g.add((Album, SY[\"albumType\"], Literal(row[\"Album_type\"], datatype=XSD.string)))\n",
    "\n",
    "    # add Video\n",
    "    if (Video, RDF.type, SY.YoutubeVideo) not in g and not pd.isnull(row[\"Url_youtube\"]):\n",
    "        g.add((Video, RDF.type, SY.YoutubeVideo))\n",
    "        g.add((Video, SY[\"videoTitle\"], Literal(row[\"Title\"], datatype=XSD.string)))\n",
    "\n",
    "        if not pd.isnull(row[\"uViews\"]):\n",
    "            g.add((Video, SY[\"views\"], Literal(int(row[\"uViews\"]), datatype=XSD.integer)))\n",
    "\n",
    "        if not pd.isnull(row[\"uLikes\"]):\n",
    "            g.add((Video, SY[\"likes\"], Literal(int(row[\"uLikes\"]), datatype=XSD.integer)))\n",
    "\n",
    "        if not pd.isnull(row[\"uComments\"]):\n",
    "            g.add((Video, SY[\"comments\"], Literal(int(row[\"uComments\"]), datatype=XSD.integer)))\n",
    "\n",
    "        g.add((Video, SY[\"description\"], Literal(row[\"Description\"], datatype=XSD.string)))\n",
    "        g.add((Video, SY[\"licensed\"], Literal(row[\"Licensed\"], datatype=XSD.boolean)))\n",
    "\n",
    "        if not pd.isnull(row[\"uOfficial_video\"]):\n",
    "            g.add((Video, SY[\"officialVideo\"], Literal(row[\"uOfficial_video\"], datatype=XSD.boolean)))\n",
    "\n",
    "    # add Channel\n",
    "    if (Channel, RDF.type, SY.YoutubeChannel) not in g and not pd.isnull(index):\n",
    "        g.add((Channel, RDF.type, SY.YoutubeChannel))\n",
    "        g.add((Channel, SY[\"channelName\"], Literal(row[\"Channel\"], datatype=XSD.string)))\n",
    "\n",
    "    # add Album-Song links\n",
    "    if (Album, SY[\"isComposed\"], Song) not in g and not pd.isnull(row[\"albumId\"]) and not pd.isnull(row[\"Uri\"]):\n",
    "        g.add((Album, SY[\"isComposed\"], Song))\n",
    "        g.add((Song, SY[\"belongsTo\"], Album))\n",
    "\n",
    "    # add Song-Artist links\n",
    "    if (Artist, SY[\"published\"], Song) not in g and not pd.isnull(row[\"Uri\"]) and not pd.isnull(row[\"Url_spotify\"]):\n",
    "        g.add((Artist, SY[\"published\"], Song))\n",
    "        g.add((Song, SY[\"isPublishedBy\"], Artist))\n",
    "\n",
    "    # add Video-Song links\n",
    "    if (Video, SY[\"isVideoOf\"], Song) not in g and not pd.isnull(row[\"Uri\"]) and not pd.isnull(row[\"Url_youtube\"]):\n",
    "        g.add((Video, SY[\"isVideoOf\"], Song))\n",
    "\n",
    "    # add Video-Channel links\n",
    "    if (Video, SY[\"isUploadedBy\"], Channel) not in g \\\n",
    "            and not pd.isnull(row[\"channelId\"]) and not pd.isnull(row[\"Url_youtube\"]):\n",
    "        g.add((Video, SY[\"isUploadedBy\"], Channel))\n",
    "        g.add((Channel, SY[\"upload\"], Video))\n",
    "\n",
    "    # add Playlists\n",
    "    if (Playlist, RDF.type, SY.SpotifyPlaylist) not in g and not pd.isnull(row[\"playlist_id\"]):\n",
    "        g.add((Playlist, RDF.type, SY.SpotifyPlaylist))\n",
    "        g.add((Playlist, SY[\"playlistName\"], Literal(row[\"playlist_name\"], datatype=XSD.string)))\n",
    "\n",
    "    # add Genres\n",
    "    if (Genre, RDF.type, SY.Genre) not in g and not pd.isnull(row[\"playlist_genre\"]):\n",
    "        g.add((Genre, RDF.type, SY.Genre))\n",
    "        g.add((Genre, RDF.type, SKOS.Concept))\n",
    "        g.add((Genre, SY[\"genreName\"], Literal(row[\"playlist_genre\"], datatype=XSD.string)))\n",
    "\n",
    "    # add Subgenres\n",
    "    if (Subgenre, RDF.type, SY.Genre) not in g and not pd.isnull(row[\"playlist_subgenre\"]):\n",
    "        g.add((Subgenre, RDF.type, SY.Genre))\n",
    "        g.add((Subgenre, RDF.type, SKOS.Concept))\n",
    "        g.add((Subgenre, SY[\"genreName\"], Literal(formattedSubgenre, datatype=XSD.string)))\n",
    "\n",
    "    # add Playlist-Genre links\n",
    "    if (Playlist, SY[\"hasGenre\"], Genre) not in g \\\n",
    "            and not pd.isnull(row[\"playlist_id\"]) and not pd.isnull(row[\"playlist_genre\"]):\n",
    "        g.add((Playlist, SY[\"hasGenre\"], Genre))\n",
    "\n",
    "    # add Playlist-Subgenre links\n",
    "    if (Playlist, SY[\"hasGenre\"], Subgenre) not in g \\\n",
    "            and not pd.isnull(row[\"playlist_id\"]) and not pd.isnull(row[\"playlist_subgenre\"]):\n",
    "        g.add((Playlist, SY[\"hasGenre\"], Subgenre))\n",
    "\n",
    "    # add Genre-Subgenre links\n",
    "    if (Genre, SKOS.narrower, Subgenre) not in g \\\n",
    "            and not pd.isnull(row[\"playlist_subgenre\"]) and not pd.isnull(row[\"playlist_genre\"]):\n",
    "        g.add((Genre, SKOS.narrower, Subgenre))\n",
    "        g.add((Subgenre, SKOS.broader, Genre))\n",
    "\n",
    "    # add Song-Playlist links\n",
    "    if (Song, SY[\"isPartOf\"], Playlist) not in g and not pd.isnull(row[\"playlist_id\"]) and not pd.isnull(row[\"Uri\"]):\n",
    "        g.add((Song, SY[\"isPartOf\"], Playlist))\n",
    "        \n",
    "    # print status\n",
    "    if index % (int(len(data)/10)+1) == 0:\n",
    "        print(\"Progress:\", str(int(index*100/len(data)))+\"%\")\n",
    "\n",
    "print(\"Progress: 100%\")"
   ]
  },
  {
   "cell_type": "markdown",
   "id": "24bb5a0b",
   "metadata": {},
   "source": [
    "<h4>Bind the namespaces to a prefix for more readable output</h4>"
   ]
  },
  {
   "cell_type": "code",
   "execution_count": 5,
   "id": "8d22b5c3",
   "metadata": {},
   "outputs": [],
   "source": [
    "g.bind(\"xsd\", XSD)\n",
    "g.bind(\"sy\", SY)"
   ]
  },
  {
   "cell_type": "markdown",
   "id": "14dda47b",
   "metadata": {},
   "source": [
    "<h4>Save all the data in Turtle format</h4>"
   ]
  },
  {
   "cell_type": "code",
   "execution_count": 6,
   "id": "d4be4c51",
   "metadata": {},
   "outputs": [
    {
     "name": "stdout",
     "output_type": "stream",
     "text": [
      "Saving...\n",
      "\n",
      "Done!\n"
     ]
    }
   ],
   "source": [
    "print(\"Saving...\\n\")\n",
    "\n",
    "with open(savePath + \"syOn.ttl\", \"w\", encoding=\"utf-8\") as file:\n",
    "    file.write(g.serialize(format=\"turtle\"))\n",
    "\n",
    "print(\"Done!\")"
   ]
  }
 ],
 "metadata": {
  "kernelspec": {
   "display_name": "Python 3 (ipykernel)",
   "language": "python",
   "name": "python3"
  },
  "language_info": {
   "codemirror_mode": {
    "name": "ipython",
    "version": 3
   },
   "file_extension": ".py",
   "mimetype": "text/x-python",
   "name": "python",
   "nbconvert_exporter": "python",
   "pygments_lexer": "ipython3",
   "version": "3.9.13"
  }
 },
 "nbformat": 4,
 "nbformat_minor": 5
}
